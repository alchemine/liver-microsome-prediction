{
 "cells": [
  {
   "cell_type": "markdown",
   "id": "7b321ee1",
   "metadata": {},
   "source": [
    "# Import packages"
   ]
  },
  {
   "cell_type": "code",
   "execution_count": 1,
   "id": "0d0deaaa",
   "metadata": {},
   "outputs": [],
   "source": [
    "import sys\n",
    "sys.path.append(\"..\")\n",
    "from liver_microsome_prediction.utils import *"
   ]
  },
  {
   "cell_type": "markdown",
   "id": "49223476",
   "metadata": {},
   "source": [
    "# Load data"
   ]
  },
  {
   "cell_type": "code",
   "execution_count": 2,
   "id": "20aab319",
   "metadata": {},
   "outputs": [
    {
     "data": {
      "text/html": [
       "<div>\n",
       "<style scoped>\n",
       "    .dataframe tbody tr th:only-of-type {\n",
       "        vertical-align: middle;\n",
       "    }\n",
       "\n",
       "    .dataframe tbody tr th {\n",
       "        vertical-align: top;\n",
       "    }\n",
       "\n",
       "    .dataframe thead th {\n",
       "        text-align: right;\n",
       "    }\n",
       "</style>\n",
       "<table border=\"1\" class=\"dataframe\">\n",
       "  <thead>\n",
       "    <tr style=\"text-align: right;\">\n",
       "      <th></th>\n",
       "      <th>id</th>\n",
       "      <th>SMILES</th>\n",
       "      <th>MLM</th>\n",
       "      <th>HLM</th>\n",
       "      <th>AlogP</th>\n",
       "      <th>Molecular_Weight</th>\n",
       "      <th>Num_H_Acceptors</th>\n",
       "      <th>Num_H_Donors</th>\n",
       "      <th>Num_RotatableBonds</th>\n",
       "      <th>LogD</th>\n",
       "      <th>Molecular_PolarSurfaceArea</th>\n",
       "    </tr>\n",
       "  </thead>\n",
       "  <tbody>\n",
       "    <tr>\n",
       "      <th>0</th>\n",
       "      <td>TRAIN_0000</td>\n",
       "      <td>CCOc1ccc(CNC(=O)c2cc(-c3sc(C)nc3C)n[nH]2)cc1OCC</td>\n",
       "      <td>26.01</td>\n",
       "      <td>50.68</td>\n",
       "      <td>3.26</td>\n",
       "      <td>400.50</td>\n",
       "      <td>5</td>\n",
       "      <td>2</td>\n",
       "      <td>8</td>\n",
       "      <td>3.26</td>\n",
       "      <td>117.37</td>\n",
       "    </tr>\n",
       "    <tr>\n",
       "      <th>1</th>\n",
       "      <td>TRAIN_0001</td>\n",
       "      <td>Cc1nc(C)c(CN2CC(C)C(=O)Nc3ccccc32)s1</td>\n",
       "      <td>29.27</td>\n",
       "      <td>50.59</td>\n",
       "      <td>2.17</td>\n",
       "      <td>301.41</td>\n",
       "      <td>2</td>\n",
       "      <td>1</td>\n",
       "      <td>2</td>\n",
       "      <td>2.17</td>\n",
       "      <td>73.47</td>\n",
       "    </tr>\n",
       "    <tr>\n",
       "      <th>2</th>\n",
       "      <td>TRAIN_0002</td>\n",
       "      <td>CCCN1CCN(c2nn3nnnc3c3ccccc23)CC1</td>\n",
       "      <td>5.59</td>\n",
       "      <td>80.89</td>\n",
       "      <td>1.59</td>\n",
       "      <td>297.36</td>\n",
       "      <td>5</td>\n",
       "      <td>0</td>\n",
       "      <td>3</td>\n",
       "      <td>1.58</td>\n",
       "      <td>62.45</td>\n",
       "    </tr>\n",
       "    <tr>\n",
       "      <th>3</th>\n",
       "      <td>TRAIN_0003</td>\n",
       "      <td>Cc1ccc(-c2ccc(-n3nc(C)c(S(=O)(=O)N4CCN(C5CCCCC5)CC4)c3C)nn2)cc1</td>\n",
       "      <td>5.71</td>\n",
       "      <td>2.00</td>\n",
       "      <td>4.77</td>\n",
       "      <td>494.65</td>\n",
       "      <td>6</td>\n",
       "      <td>0</td>\n",
       "      <td>5</td>\n",
       "      <td>3.48</td>\n",
       "      <td>92.60</td>\n",
       "    </tr>\n",
       "    <tr>\n",
       "      <th>4</th>\n",
       "      <td>TRAIN_0004</td>\n",
       "      <td>Cc1ccc2c(c1)N(C(=O)c1ccncc1)CC(C)O2</td>\n",
       "      <td>93.27</td>\n",
       "      <td>99.99</td>\n",
       "      <td>2.33</td>\n",
       "      <td>268.31</td>\n",
       "      <td>3</td>\n",
       "      <td>0</td>\n",
       "      <td>1</td>\n",
       "      <td>2.34</td>\n",
       "      <td>42.43</td>\n",
       "    </tr>\n",
       "    <tr>\n",
       "      <th>...</th>\n",
       "      <td>...</td>\n",
       "      <td>...</td>\n",
       "      <td>...</td>\n",
       "      <td>...</td>\n",
       "      <td>...</td>\n",
       "      <td>...</td>\n",
       "      <td>...</td>\n",
       "      <td>...</td>\n",
       "      <td>...</td>\n",
       "      <td>...</td>\n",
       "      <td>...</td>\n",
       "    </tr>\n",
       "    <tr>\n",
       "      <th>3493</th>\n",
       "      <td>TRAIN_3493</td>\n",
       "      <td>Cn1nc(CNC(=O)Cn2nc(C(F)(F)F)c3c2CCC3)c(Cl)c1Cl</td>\n",
       "      <td>1.56</td>\n",
       "      <td>3.08</td>\n",
       "      <td>3.41</td>\n",
       "      <td>396.19</td>\n",
       "      <td>3</td>\n",
       "      <td>1</td>\n",
       "      <td>5</td>\n",
       "      <td>3.41</td>\n",
       "      <td>64.74</td>\n",
       "    </tr>\n",
       "    <tr>\n",
       "      <th>3494</th>\n",
       "      <td>TRAIN_3494</td>\n",
       "      <td>CCn1[nH]cc/c1=N\\C(=O)c1nn(-c2ccccc2)c(=O)c2ccccc12</td>\n",
       "      <td>35.56</td>\n",
       "      <td>47.63</td>\n",
       "      <td>1.91</td>\n",
       "      <td>359.38</td>\n",
       "      <td>4</td>\n",
       "      <td>1</td>\n",
       "      <td>3</td>\n",
       "      <td>1.84</td>\n",
       "      <td>77.37</td>\n",
       "    </tr>\n",
       "    <tr>\n",
       "      <th>3495</th>\n",
       "      <td>TRAIN_3495</td>\n",
       "      <td>CCOC(=O)CCCc1nc2cc(N)ccc2n1C</td>\n",
       "      <td>56.15</td>\n",
       "      <td>1.79</td>\n",
       "      <td>1.94</td>\n",
       "      <td>261.32</td>\n",
       "      <td>3</td>\n",
       "      <td>1</td>\n",
       "      <td>6</td>\n",
       "      <td>2.12</td>\n",
       "      <td>70.14</td>\n",
       "    </tr>\n",
       "    <tr>\n",
       "      <th>3496</th>\n",
       "      <td>TRAIN_3496</td>\n",
       "      <td>Nc1cc(C(=O)OCCC2CCOC2=O)cnc1Cl</td>\n",
       "      <td>0.03</td>\n",
       "      <td>2.77</td>\n",
       "      <td>0.99</td>\n",
       "      <td>284.70</td>\n",
       "      <td>5</td>\n",
       "      <td>1</td>\n",
       "      <td>5</td>\n",
       "      <td>0.99</td>\n",
       "      <td>91.51</td>\n",
       "    </tr>\n",
       "    <tr>\n",
       "      <th>3497</th>\n",
       "      <td>TRAIN_3497</td>\n",
       "      <td>COc1ccc(-c2nc(Cc3ccccc3)sc2C)cc1</td>\n",
       "      <td>0.45</td>\n",
       "      <td>2.65</td>\n",
       "      <td>4.32</td>\n",
       "      <td>295.40</td>\n",
       "      <td>2</td>\n",
       "      <td>0</td>\n",
       "      <td>4</td>\n",
       "      <td>4.32</td>\n",
       "      <td>50.36</td>\n",
       "    </tr>\n",
       "  </tbody>\n",
       "</table>\n",
       "<p>3498 rows × 11 columns</p>\n",
       "</div>"
      ],
      "text/plain": [
       "              id                                                           SMILES   MLM   HLM  AlogP  Molecular_Weight  Num_H_Acceptors  Num_H_Donors  Num_RotatableBonds  LogD  Molecular_PolarSurfaceArea\n",
       "0     TRAIN_0000                  CCOc1ccc(CNC(=O)c2cc(-c3sc(C)nc3C)n[nH]2)cc1OCC 26.01 50.68   3.26            400.50                5             2                   8  3.26                      117.37\n",
       "1     TRAIN_0001                             Cc1nc(C)c(CN2CC(C)C(=O)Nc3ccccc32)s1 29.27 50.59   2.17            301.41                2             1                   2  2.17                       73.47\n",
       "2     TRAIN_0002                                 CCCN1CCN(c2nn3nnnc3c3ccccc23)CC1  5.59 80.89   1.59            297.36                5             0                   3  1.58                       62.45\n",
       "3     TRAIN_0003  Cc1ccc(-c2ccc(-n3nc(C)c(S(=O)(=O)N4CCN(C5CCCCC5)CC4)c3C)nn2)cc1  5.71  2.00   4.77            494.65                6             0                   5  3.48                       92.60\n",
       "4     TRAIN_0004                              Cc1ccc2c(c1)N(C(=O)c1ccncc1)CC(C)O2 93.27 99.99   2.33            268.31                3             0                   1  2.34                       42.43\n",
       "...          ...                                                              ...   ...   ...    ...               ...              ...           ...                 ...   ...                         ...\n",
       "3493  TRAIN_3493                   Cn1nc(CNC(=O)Cn2nc(C(F)(F)F)c3c2CCC3)c(Cl)c1Cl  1.56  3.08   3.41            396.19                3             1                   5  3.41                       64.74\n",
       "3494  TRAIN_3494               CCn1[nH]cc/c1=N\\C(=O)c1nn(-c2ccccc2)c(=O)c2ccccc12 35.56 47.63   1.91            359.38                4             1                   3  1.84                       77.37\n",
       "3495  TRAIN_3495                                     CCOC(=O)CCCc1nc2cc(N)ccc2n1C 56.15  1.79   1.94            261.32                3             1                   6  2.12                       70.14\n",
       "3496  TRAIN_3496                                   Nc1cc(C(=O)OCCC2CCOC2=O)cnc1Cl  0.03  2.77   0.99            284.70                5             1                   5  0.99                       91.51\n",
       "3497  TRAIN_3497                                 COc1ccc(-c2nc(Cc3ccccc3)sc2C)cc1  0.45  2.65   4.32            295.40                2             0                   4  4.32                       50.36\n",
       "\n",
       "[3498 rows x 11 columns]"
      ]
     },
     "execution_count": 2,
     "metadata": {},
     "output_type": "execute_result"
    }
   ],
   "source": [
    "train_data = pd.read_csv(PATH.train)\n",
    "targets = ['MLM', 'HLM']\n",
    "train_data"
   ]
  },
  {
   "cell_type": "code",
   "execution_count": 3,
   "id": "d449903e",
   "metadata": {},
   "outputs": [],
   "source": [
    "train_data.loc[train_data.AlogP.isna(), 'AlogP'] = train_data.AlogP.mean()"
   ]
  },
  {
   "cell_type": "code",
   "execution_count": 4,
   "id": "50758870",
   "metadata": {},
   "outputs": [
    {
     "name": "stdout",
     "output_type": "stream",
     "text": [
      "<class 'pandas.core.frame.DataFrame'>\n",
      "RangeIndex: 3498 entries, 0 to 3497\n",
      "Data columns (total 11 columns):\n",
      " #   Column                      Non-Null Count  Dtype  \n",
      "---  ------                      --------------  -----  \n",
      " 0   id                          3498 non-null   object \n",
      " 1   SMILES                      3498 non-null   object \n",
      " 2   MLM                         3498 non-null   float64\n",
      " 3   HLM                         3498 non-null   float64\n",
      " 4   AlogP                       3498 non-null   float64\n",
      " 5   Molecular_Weight            3498 non-null   float64\n",
      " 6   Num_H_Acceptors             3498 non-null   int64  \n",
      " 7   Num_H_Donors                3498 non-null   int64  \n",
      " 8   Num_RotatableBonds          3498 non-null   int64  \n",
      " 9   LogD                        3498 non-null   float64\n",
      " 10  Molecular_PolarSurfaceArea  3498 non-null   float64\n",
      "dtypes: float64(6), int64(3), object(2)\n",
      "memory usage: 300.7+ KB\n"
     ]
    }
   ],
   "source": [
    "train_data.info()"
   ]
  },
  {
   "cell_type": "code",
   "execution_count": 5,
   "id": "7060312e",
   "metadata": {},
   "outputs": [],
   "source": [
    "from sklearn.preprocessing import StandardScaler\n",
    "\n",
    "scaler   = StandardScaler()\n",
    "features = train_data.columns.drop(['id', 'SMILES'] + targets)\n",
    "train_data[features] = scaler.fit_transform(train_data[features])"
   ]
  },
  {
   "cell_type": "code",
   "execution_count": 6,
   "id": "037626c1",
   "metadata": {},
   "outputs": [],
   "source": [
    "# from tqdm import tqdm\n",
    "# from sklearn.model_selection import KFold\n",
    "# from sklearn.ensemble import RandomForestRegressor\n",
    "# from sklearn.metrics import mean_squared_error\n",
    "\n",
    "# models       = {target: [] for target in targets}\n",
    "# train_scores = []\n",
    "# val_scores   = []\n",
    "\n",
    "# for train_idxs, val_idxs in tqdm(KFold(n_splits=10, random_state=SEED, shuffle=True).split(train_data)):\n",
    "#     X_train, ys_train = train_data.loc[train_idxs][features], train_data.loc[train_idxs][targets]\n",
    "#     X_val,   ys_val   = train_data.loc[val_idxs][features],   train_data.loc[val_idxs][targets]\n",
    "    \n",
    "#     train_score, val_score = 0, 0\n",
    "#     for target in targets:\n",
    "#         y_train, y_val = ys_train[target], ys_val[target]\n",
    "#         model = RandomForestRegressor(random_state=SEED).fit(X_train, y_train)\n",
    "#         train_score += mean_squared_error(y_train, model.predict(X_train), squared=False)\n",
    "#         val_score   += mean_squared_error(y_val,   model.predict(X_val), squared=False)\n",
    "#         models[target].append(model)\n",
    "#     train_scores.append(train_score/2)\n",
    "#     val_scores.append(val_score/2)\n",
    "\n",
    "# print(np.mean(train_scores), train_scores)\n",
    "# print(np.mean(val_scores), val_scores)"
   ]
  },
  {
   "cell_type": "code",
   "execution_count": 7,
   "id": "ca8ed855",
   "metadata": {},
   "outputs": [
    {
     "name": "stdout",
     "output_type": "stream",
     "text": [
      "12.425119617012449 [12.425119617012449]\n",
      "34.09996920937705 [34.09996920937705]\n"
     ]
    }
   ],
   "source": [
    "from tqdm import tqdm\n",
    "from sklearn.model_selection import train_test_split\n",
    "from sklearn.ensemble import RandomForestRegressor\n",
    "from sklearn.metrics import mean_squared_error\n",
    "\n",
    "models       = {target: [] for target in targets}\n",
    "train_scores = []\n",
    "val_scores   = []\n",
    "\n",
    "train_idxs, val_idxs = train_test_split(train_data.index, test_size=0.1, random_state=SEED)\n",
    "X_train, ys_train = train_data.loc[train_idxs][features], train_data.loc[train_idxs][targets]\n",
    "X_val,   ys_val   = train_data.loc[val_idxs][features],   train_data.loc[val_idxs][targets]\n",
    "    \n",
    "train_score, val_score = 0, 0\n",
    "for target in targets:\n",
    "    y_train, y_val = ys_train[target], ys_val[target]\n",
    "    model = RandomForestRegressor(random_state=SEED).fit(X_train, y_train)\n",
    "    train_score += mean_squared_error(y_train, model.predict(X_train), squared=False)\n",
    "    val_score   += mean_squared_error(y_val,   model.predict(X_val), squared=False)\n",
    "    models[target].append(model)\n",
    "train_scores.append(train_score/2)\n",
    "val_scores.append(val_score/2)\n",
    "\n",
    "print(np.mean(train_scores), train_scores)\n",
    "print(np.mean(val_scores), val_scores)"
   ]
  },
  {
   "cell_type": "markdown",
   "id": "7d623939",
   "metadata": {},
   "source": [
    "# Submission"
   ]
  },
  {
   "cell_type": "code",
   "execution_count": 8,
   "id": "1d00c290",
   "metadata": {},
   "outputs": [],
   "source": [
    "test_data  = pd.read_csv(PATH.test)\n",
    "submission = pd.read_csv(PATH.sample)"
   ]
  },
  {
   "cell_type": "code",
   "execution_count": 9,
   "id": "1e41e47a",
   "metadata": {},
   "outputs": [],
   "source": [
    "test_data.loc[test_data.AlogP.isna(), 'AlogP'] = train_data.AlogP.mean()\n",
    "test_data[features] = scaler.transform(test_data[features])"
   ]
  },
  {
   "cell_type": "code",
   "execution_count": 10,
   "id": "8148ded4",
   "metadata": {},
   "outputs": [],
   "source": [
    "for target in models:\n",
    "    submission[target] = np.array([model.predict(test_data[features]) for model in models[target]]).mean(axis=0)"
   ]
  },
  {
   "cell_type": "code",
   "execution_count": 11,
   "id": "eb4b2e0b",
   "metadata": {},
   "outputs": [
    {
     "data": {
      "text/html": [
       "<div>\n",
       "<style scoped>\n",
       "    .dataframe tbody tr th:only-of-type {\n",
       "        vertical-align: middle;\n",
       "    }\n",
       "\n",
       "    .dataframe tbody tr th {\n",
       "        vertical-align: top;\n",
       "    }\n",
       "\n",
       "    .dataframe thead th {\n",
       "        text-align: right;\n",
       "    }\n",
       "</style>\n",
       "<table border=\"1\" class=\"dataframe\">\n",
       "  <thead>\n",
       "    <tr style=\"text-align: right;\">\n",
       "      <th></th>\n",
       "      <th>id</th>\n",
       "      <th>MLM</th>\n",
       "      <th>HLM</th>\n",
       "    </tr>\n",
       "  </thead>\n",
       "  <tbody>\n",
       "    <tr>\n",
       "      <th>0</th>\n",
       "      <td>TEST_000</td>\n",
       "      <td>24.66</td>\n",
       "      <td>36.72</td>\n",
       "    </tr>\n",
       "    <tr>\n",
       "      <th>1</th>\n",
       "      <td>TEST_001</td>\n",
       "      <td>73.76</td>\n",
       "      <td>84.01</td>\n",
       "    </tr>\n",
       "    <tr>\n",
       "      <th>2</th>\n",
       "      <td>TEST_002</td>\n",
       "      <td>32.88</td>\n",
       "      <td>43.44</td>\n",
       "    </tr>\n",
       "    <tr>\n",
       "      <th>3</th>\n",
       "      <td>TEST_003</td>\n",
       "      <td>50.64</td>\n",
       "      <td>75.02</td>\n",
       "    </tr>\n",
       "    <tr>\n",
       "      <th>4</th>\n",
       "      <td>TEST_004</td>\n",
       "      <td>53.56</td>\n",
       "      <td>78.09</td>\n",
       "    </tr>\n",
       "  </tbody>\n",
       "</table>\n",
       "</div>"
      ],
      "text/plain": [
       "         id   MLM   HLM\n",
       "0  TEST_000 24.66 36.72\n",
       "1  TEST_001 73.76 84.01\n",
       "2  TEST_002 32.88 43.44\n",
       "3  TEST_003 50.64 75.02\n",
       "4  TEST_004 53.56 78.09"
      ]
     },
     "execution_count": 11,
     "metadata": {},
     "output_type": "execute_result"
    }
   ],
   "source": [
    "submission.head()"
   ]
  },
  {
   "cell_type": "code",
   "execution_count": 15,
   "id": "398b20a3",
   "metadata": {},
   "outputs": [],
   "source": [
    "output_path = join(PATH.out, '2_example_random_forest_no_folds.csv')\n",
    "submission.to_csv(output_path, index=False)"
   ]
  },
  {
   "cell_type": "code",
   "execution_count": 16,
   "id": "d1472287",
   "metadata": {},
   "outputs": [
    {
     "name": "stdout",
     "output_type": "stream",
     "text": [
      "{'isSubmitted': True, 'detail': 'Success'}\n"
     ]
    },
    {
     "data": {
      "text/plain": [
       "<Response [200]>"
      ]
     },
     "execution_count": 16,
     "metadata": {},
     "output_type": "execute_result"
    }
   ],
   "source": [
    "from dacon_submit_api import dacon_submit_api\n",
    "\n",
    "dacon_submit_api.post_submission_file(\n",
    "    output_path,\n",
    "    '236127',\n",
    "    'alchemine',\n",
    "    '2_example_random_forest_no_folds'\n",
    ")"
   ]
  },
  {
   "attachments": {
    "image-2.png": {
     "image/png": "[encoded data removed]"
    }
   },
   "cell_type": "markdown",
   "id": "d18eb379",
   "metadata": {},
   "source": [
    "![image-2.png](attachment:image-2.png)"
   ]
  }
 ],
 "metadata": {
  "kernelspec": {
   "display_name": "liver-microsome-prediction",
   "language": "python",
   "name": "liver-microsome-prediction"
  },
  "language_info": {
   "codemirror_mode": {
    "name": "ipython",
    "version": 3
   },
   "file_extension": ".py",
   "mimetype": "text/x-python",
   "name": "python",
   "nbconvert_exporter": "python",
   "pygments_lexer": "ipython3",
   "version": "3.10.10"
  }
 },
 "nbformat": 4,
 "nbformat_minor": 5
}
